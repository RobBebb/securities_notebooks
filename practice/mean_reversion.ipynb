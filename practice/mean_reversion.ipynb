{
 "cells": [
  {
   "cell_type": "code",
   "execution_count": 18,
   "metadata": {},
   "outputs": [],
   "source": [
    "import yfinance as yf\n",
    "import pandas as pd\n",
    "from talib import abstract\n",
    "sma = abstract.Function('sma')"
   ]
  },
  {
   "cell_type": "code",
   "execution_count": 19,
   "metadata": {},
   "outputs": [
    {
     "name": "stderr",
     "output_type": "stream",
     "text": [
      "[*********************100%***********************]  1 of 1 completed\n"
     ]
    },
    {
     "data": {
      "text/html": [
       "<div>\n",
       "<style scoped>\n",
       "    .dataframe tbody tr th:only-of-type {\n",
       "        vertical-align: middle;\n",
       "    }\n",
       "\n",
       "    .dataframe tbody tr th {\n",
       "        vertical-align: top;\n",
       "    }\n",
       "\n",
       "    .dataframe thead th {\n",
       "        text-align: right;\n",
       "    }\n",
       "</style>\n",
       "<table border=\"1\" class=\"dataframe\">\n",
       "  <thead>\n",
       "    <tr style=\"text-align: right;\">\n",
       "      <th></th>\n",
       "      <th>Open</th>\n",
       "      <th>High</th>\n",
       "      <th>Low</th>\n",
       "      <th>Close</th>\n",
       "      <th>Volume</th>\n",
       "    </tr>\n",
       "    <tr>\n",
       "      <th>Datetime</th>\n",
       "      <th></th>\n",
       "      <th></th>\n",
       "      <th></th>\n",
       "      <th></th>\n",
       "      <th></th>\n",
       "    </tr>\n",
       "  </thead>\n",
       "  <tbody>\n",
       "    <tr>\n",
       "      <th>2024-08-19 09:30:00</th>\n",
       "      <td>13.3700</td>\n",
       "      <td>13.4600</td>\n",
       "      <td>13.250</td>\n",
       "      <td>13.2900</td>\n",
       "      <td>99164</td>\n",
       "    </tr>\n",
       "    <tr>\n",
       "      <th>2024-08-19 09:45:00</th>\n",
       "      <td>13.2900</td>\n",
       "      <td>13.2915</td>\n",
       "      <td>13.010</td>\n",
       "      <td>13.0198</td>\n",
       "      <td>185342</td>\n",
       "    </tr>\n",
       "    <tr>\n",
       "      <th>2024-08-19 10:00:00</th>\n",
       "      <td>13.0110</td>\n",
       "      <td>13.0150</td>\n",
       "      <td>12.685</td>\n",
       "      <td>12.7150</td>\n",
       "      <td>457178</td>\n",
       "    </tr>\n",
       "    <tr>\n",
       "      <th>2024-08-19 10:15:00</th>\n",
       "      <td>12.7137</td>\n",
       "      <td>12.7400</td>\n",
       "      <td>12.610</td>\n",
       "      <td>12.7100</td>\n",
       "      <td>178921</td>\n",
       "    </tr>\n",
       "    <tr>\n",
       "      <th>2024-08-19 10:30:00</th>\n",
       "      <td>12.7200</td>\n",
       "      <td>12.9075</td>\n",
       "      <td>12.720</td>\n",
       "      <td>12.8900</td>\n",
       "      <td>219846</td>\n",
       "    </tr>\n",
       "  </tbody>\n",
       "</table>\n",
       "</div>"
      ],
      "text/plain": [
       "                        Open     High     Low    Close  Volume\n",
       "Datetime                                                      \n",
       "2024-08-19 09:30:00  13.3700  13.4600  13.250  13.2900   99164\n",
       "2024-08-19 09:45:00  13.2900  13.2915  13.010  13.0198  185342\n",
       "2024-08-19 10:00:00  13.0110  13.0150  12.685  12.7150  457178\n",
       "2024-08-19 10:15:00  12.7137  12.7400  12.610  12.7100  178921\n",
       "2024-08-19 10:30:00  12.7200  12.9075  12.720  12.8900  219846"
      ]
     },
     "execution_count": 19,
     "metadata": {},
     "output_type": "execute_result"
    }
   ],
   "source": [
    "# Obtain OHLV data for HE\n",
    "# Obtain OHLV data for HE\n",
    "he = yf.download(\"HE\", start=\"2024-08-17\", interval=\"15m\")[\n",
    "    [\"Open\", \"High\", \"Low\", \"Close\", \"Volume\"]\n",
    "]\n",
    "he.head()"
   ]
  },
  {
   "cell_type": "code",
   "execution_count": 20,
   "metadata": {},
   "outputs": [
    {
     "name": "stdout",
     "output_type": "stream",
     "text": [
      "Datetime\n",
      "2024-08-19 09:30:00    13.2900\n",
      "2024-08-19 09:45:00    13.0198\n",
      "2024-08-19 10:00:00    12.7150\n",
      "2024-08-19 10:15:00    12.7100\n",
      "2024-08-19 10:30:00    12.8900\n",
      "Name: Close, dtype: float64\n",
      "Rolling [window=50,center=False,axis=0,method=single]\n",
      "Datetime\n",
      "2024-10-11 14:45:00    0.116863\n",
      "2024-10-11 15:00:00    0.111459\n",
      "2024-10-11 15:15:00    0.106466\n",
      "2024-10-11 15:30:00    0.103838\n",
      "2024-10-11 15:45:00    0.099732\n",
      "Name: Close, dtype: float64\n",
      "Datetime\n",
      "2024-10-11 14:45:00    0.350590\n",
      "2024-10-11 15:00:00    0.334378\n",
      "2024-10-11 15:15:00    0.319398\n",
      "2024-10-11 15:30:00    0.311515\n",
      "2024-10-11 15:45:00    0.299197\n",
      "Name: Close, dtype: float64\n"
     ]
    }
   ],
   "source": [
    "series = pd.Series(he.Close)\n",
    "print(series.head())\n",
    "rolling = series.rolling(50)\n",
    "print(rolling)\n",
    "std = rolling.std()\n",
    "print(std.tail())\n",
    "std_3 = std * 3\n",
    "print(std_3.tail())\n",
    "\n",
    "\n"
   ]
  },
  {
   "cell_type": "code",
   "execution_count": 21,
   "metadata": {},
   "outputs": [
    {
     "name": "stdout",
     "output_type": "stream",
     "text": [
      "1014\n"
     ]
    }
   ],
   "source": [
    "from talib import abstract\n",
    "sma = abstract.Function('sma')\n",
    "output = sma(series, timeperiod=10)\n",
    "print(len(output))"
   ]
  }
 ],
 "metadata": {
  "kernelspec": {
   "display_name": "jupyter2",
   "language": "python",
   "name": "python3"
  },
  "language_info": {
   "codemirror_mode": {
    "name": "ipython",
    "version": 3
   },
   "file_extension": ".py",
   "mimetype": "text/x-python",
   "name": "python",
   "nbconvert_exporter": "python",
   "pygments_lexer": "ipython3",
   "version": "3.11.7"
  }
 },
 "nbformat": 4,
 "nbformat_minor": 2
}
