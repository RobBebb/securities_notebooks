{
 "cells": [
  {
   "cell_type": "markdown",
   "metadata": {},
   "source": [
    "### Imports"
   ]
  },
  {
   "cell_type": "code",
   "execution_count": 1,
   "metadata": {},
   "outputs": [
    {
     "name": "stdout",
     "output_type": "stream",
     "text": [
      "Numpy v1.26.4\n",
      "Pandas v2.1.4\n",
      "mplfinance v0.12.9b7\n",
      "\n",
      "Pandas TA v0.3.14b0\n",
      "To install the Latest Version:\n",
      "$ pip install -U git+https://github.com/twopirllc/pandas-ta\n",
      "\n"
     ]
    }
   ],
   "source": [
    "\n",
    "%matplotlib inline\n",
    "import datetime as dt\n",
    "import random as rnd\n",
    "from sys import float_info as sflt\n",
    "\n",
    "# from tqdm import tqdm\n",
    "\n",
    "\n",
    "import numpy as np\n",
    "import pandas as pd\n",
    "# pd.options.display.max_rows\n",
    "# pd.set_option(\"display.max_rows\", 100)\n",
    "# pd.set_option(\"display.max_columns\", 20)\n",
    "pd.set_option(\"display.max_rows\", 100)\n",
    "pd.set_option(\"display.max_columns\", 20)\n",
    "\n",
    "import mplfinance as mpf\n",
    "import pandas_ta as ta\n",
    "\n",
    "# from tqdm.notebook import trange, tqdm\n",
    "\n",
    "# from watchlist import colors, Watchlist # Is this failing? If so, copy it locally. See above.\n",
    "\n",
    "print(f\"Numpy v{np.__version__}\")\n",
    "print(f\"Pandas v{pd.__version__}\")\n",
    "print(f\"mplfinance v{mpf.__version__}\")\n",
    "print(f\"\\nPandas TA v{ta.version}\\nTo install the Latest Version:\\n$ pip install -U git+https://github.com/twopirllc/pandas-ta\\n\")\n",
    "%matplotlib inline"
   ]
  },
  {
   "cell_type": "markdown",
   "metadata": {},
   "source": [
    "### MISC Function(s)\n",
    "Work out how many trading days are in the selected time frame (tf)"
   ]
  },
  {
   "cell_type": "code",
   "execution_count": 3,
   "metadata": {},
   "outputs": [],
   "source": [
    "def recent_bars(df, tf: str = \"1y\"):\n",
    "    # All Data: 0, Last Four Years: 0.25, Last Two Years: 0.5, This Year: 1, Last Half Year: 2, Last Quarter: 4\n",
    "    yearly_divisor = {\"all\": 0, \"10y\": 0.1, \"5y\": 0.2, \"4y\": 0.25, \"3y\": 1./3, \"2y\": 0.5, \"1y\": 1, \"6mo\": 2, \"3mo\": 4}\n",
    "    yd = yearly_divisor[tf] if tf in yearly_divisor.keys() else 0\n",
    "    return int(ta.RATE[\"TRADING_DAYS_PER_YEAR\"] / yd) if yd > 0 else df.shape[0]"
   ]
  },
  {
   "cell_type": "markdown",
   "metadata": {},
   "source": [
    "### Data Collection"
   ]
  },
  {
   "cell_type": "code",
   "execution_count": 4,
   "metadata": {},
   "outputs": [
    {
     "ename": "NameError",
     "evalue": "name 'Watchlist' is not defined",
     "output_type": "error",
     "traceback": [
      "\u001b[0;31m---------------------------------------------------------------------------\u001b[0m",
      "\u001b[0;31mNameError\u001b[0m                                 Traceback (most recent call last)",
      "Cell \u001b[0;32mIn[4], line 3\u001b[0m\n\u001b[1;32m      1\u001b[0m tf \u001b[38;5;241m=\u001b[39m \u001b[38;5;124m\"\u001b[39m\u001b[38;5;124mD\u001b[39m\u001b[38;5;124m\"\u001b[39m\n\u001b[1;32m      2\u001b[0m tickers \u001b[38;5;241m=\u001b[39m [\u001b[38;5;124m\"\u001b[39m\u001b[38;5;124mSPY\u001b[39m\u001b[38;5;124m\"\u001b[39m, \u001b[38;5;124m\"\u001b[39m\u001b[38;5;124mQQQ\u001b[39m\u001b[38;5;124m\"\u001b[39m, \u001b[38;5;124m\"\u001b[39m\u001b[38;5;124mAAPL\u001b[39m\u001b[38;5;124m\"\u001b[39m, \u001b[38;5;124m\"\u001b[39m\u001b[38;5;124mTSLA\u001b[39m\u001b[38;5;124m\"\u001b[39m, \u001b[38;5;124m\"\u001b[39m\u001b[38;5;124mBTC-USD\u001b[39m\u001b[38;5;124m\"\u001b[39m]\n\u001b[0;32m----> 3\u001b[0m watch \u001b[38;5;241m=\u001b[39m \u001b[43mWatchlist\u001b[49m(tickers, tf\u001b[38;5;241m=\u001b[39mtf, ds_name\u001b[38;5;241m=\u001b[39m\u001b[38;5;124m\"\u001b[39m\u001b[38;5;124myahoo\u001b[39m\u001b[38;5;124m\"\u001b[39m, timed\u001b[38;5;241m=\u001b[39m\u001b[38;5;28;01mTrue\u001b[39;00m)\n\u001b[1;32m      4\u001b[0m \u001b[38;5;66;03m# watch.strategy = ta.CommonStrategy # If you have a Custom Strategy, you can use it here.\u001b[39;00m\n\u001b[1;32m      5\u001b[0m watch\u001b[38;5;241m.\u001b[39mload(tickers, analyze\u001b[38;5;241m=\u001b[39m\u001b[38;5;28;01mTrue\u001b[39;00m, verbose\u001b[38;5;241m=\u001b[39m\u001b[38;5;28;01mFalse\u001b[39;00m)\n",
      "\u001b[0;31mNameError\u001b[0m: name 'Watchlist' is not defined"
     ]
    }
   ],
   "source": [
    "tf = \"D\"\n",
    "tickers = [\"SPY\", \"QQQ\", \"AAPL\", \"TSLA\", \"BTC-USD\"]\n",
    "watch = Watchlist(tickers, tf=tf, ds_name=\"yahoo\", timed=True)\n",
    "# watch.strategy = ta.CommonStrategy # If you have a Custom Strategy, you can use it here.\n",
    "watch.load(tickers, analyze=True, verbose=False)"
   ]
  },
  {
   "cell_type": "markdown",
   "metadata": {},
   "source": [
    "### Asset Selection"
   ]
  },
  {
   "cell_type": "code",
   "execution_count": 7,
   "metadata": {},
   "outputs": [
    {
     "ename": "NameError",
     "evalue": "name 'watch' is not defined",
     "output_type": "error",
     "traceback": [
      "\u001b[0;31m---------------------------------------------------------------------------\u001b[0m",
      "\u001b[0;31mNameError\u001b[0m                                 Traceback (most recent call last)",
      "Cell \u001b[0;32mIn[7], line 2\u001b[0m\n\u001b[1;32m      1\u001b[0m ticker \u001b[38;5;241m=\u001b[39m tickers[\u001b[38;5;241m0\u001b[39m] \u001b[38;5;66;03m# change tickers by changing the index\u001b[39;00m\n\u001b[0;32m----> 2\u001b[0m \u001b[38;5;28mprint\u001b[39m(\u001b[38;5;124mf\u001b[39m\u001b[38;5;124m\"\u001b[39m\u001b[38;5;132;01m{\u001b[39;00mticker\u001b[38;5;132;01m}\u001b[39;00m\u001b[38;5;124m \u001b[39m\u001b[38;5;132;01m{\u001b[39;00m\u001b[43mwatch\u001b[49m\u001b[38;5;241m.\u001b[39mdata[ticker]\u001b[38;5;241m.\u001b[39mshape\u001b[38;5;132;01m}\u001b[39;00m\u001b[38;5;130;01m\\n\u001b[39;00m\u001b[38;5;124mColumns: \u001b[39m\u001b[38;5;132;01m{\u001b[39;00m\u001b[38;5;124m'\u001b[39m\u001b[38;5;124m, \u001b[39m\u001b[38;5;124m'\u001b[39m\u001b[38;5;241m.\u001b[39mjoin(\u001b[38;5;28mlist\u001b[39m(watch\u001b[38;5;241m.\u001b[39mdata[ticker]\u001b[38;5;241m.\u001b[39mcolumns))\u001b[38;5;132;01m}\u001b[39;00m\u001b[38;5;124m\"\u001b[39m)\n",
      "\u001b[0;31mNameError\u001b[0m: name 'watch' is not defined"
     ]
    }
   ],
   "source": [
    "ticker = tickers[0] # change tickers by changing the index\n",
    "print(f\"{ticker} {watch.data[ticker].shape}\\nColumns: {', '.join(list(watch.data[ticker].columns))}\")"
   ]
  },
  {
   "cell_type": "markdown",
   "metadata": {},
   "source": [
    "### Trim it"
   ]
  },
  {
   "cell_type": "code",
   "execution_count": null,
   "metadata": {},
   "outputs": [],
   "source": [
    "duration = \"1y\"\n",
    "asset = watch.data[ticker]\n",
    "recent = recent_bars(asset, duration)\n",
    "asset.columns = asset.columns.str.lower()\n",
    "asset.drop(columns=[\"dividends\", \"split\"], errors=\"ignore\", inplace=True)\n",
    "asset = asset.copy().tail(recent)\n",
    "asset"
   ]
  }
 ],
 "metadata": {
  "kernelspec": {
   "display_name": "jupyter",
   "language": "python",
   "name": "python3"
  },
  "language_info": {
   "codemirror_mode": {
    "name": "ipython",
    "version": 3
   },
   "file_extension": ".py",
   "mimetype": "text/x-python",
   "name": "python",
   "nbconvert_exporter": "python",
   "pygments_lexer": "ipython3",
   "version": "3.11.7"
  }
 },
 "nbformat": 4,
 "nbformat_minor": 2
}
