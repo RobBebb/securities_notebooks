{
 "cells": [
  {
   "cell_type": "code",
   "execution_count": 9,
   "metadata": {},
   "outputs": [
    {
     "name": "stdout",
     "output_type": "stream",
     "text": [
      "\n",
      "Pandas TA v0.3.14b0\n",
      "To install the Latest Version:\n",
      "$ pip install -U git+https://github.com/twopirllc/pandas-ta\n",
      "\n"
     ]
    }
   ],
   "source": [
    "%matplotlib inline\n",
    "import datetime as dt\n",
    "import random as rnd\n",
    "\n",
    "from tqdm import tqdm\n",
    "import numpy as np\n",
    "import pandas as pd\n",
    "import matplotlib.ticker as ticker\n",
    "import mplfinance as mpf\n",
    "\n",
    "from alphaVantageAPI.alphavantage import AlphaVantage\n",
    "import pandas_ta as ta\n",
    "\n",
    "from watchlist import colors # Is this failing? If so, copy it locally. See above.\n",
    "\n",
    "print(f\"\\nPandas TA v{ta.version}\\nTo install the Latest Version:\\n$ pip install -U git+https://github.com/twopirllc/pandas-ta\\n\")"
   ]
  },
  {
   "cell_type": "code",
   "execution_count": 5,
   "metadata": {},
   "outputs": [
    {
     "name": "stdout",
     "output_type": "stream",
     "text": [
      "Pandas TA - Technical Analysis Indicators - v0.3.14b0\n",
      "Total Indicators & Utilities: 205\n",
      "Abbreviations:\n",
      "    aberration, above, above_value, accbands, ad, adosc, adx, alma, amat, ao, aobv, apo, aroon, atr, bbands, below, below_value, bias, bop, brar, cci, cdl_pattern, cdl_z, cfo, cg, chop, cksp, cmf, cmo, coppock, cross, cross_value, cti, decay, decreasing, dema, dm, donchian, dpo, ebsw, efi, ema, entropy, eom, er, eri, fisher, fwma, ha, hilo, hl2, hlc3, hma, hwc, hwma, ichimoku, increasing, inertia, jma, kama, kc, kdj, kst, kurtosis, kvo, linreg, log_return, long_run, macd, mad, massi, mcgd, median, mfi, midpoint, midprice, mom, natr, nvi, obv, ohlc4, pdist, percent_return, pgo, ppo, psar, psl, pvi, pvo, pvol, pvr, pvt, pwma, qqe, qstick, quantile, rma, roc, rsi, rsx, rvgi, rvi, short_run, sinwma, skew, slope, sma, smi, squeeze, squeeze_pro, ssf, stc, stdev, stoch, stochrsi, supertrend, swma, t3, td_seq, tema, thermo, tos_stdevall, trima, trix, true_range, tsi, tsignals, ttm_trend, ui, uo, variance, vhf, vidya, vortex, vp, vwap, vwma, wcp, willr, wma, xsignals, zlma, zscore\n",
      "\n",
      "Candle Patterns:\n",
      "    2crows, 3blackcrows, 3inside, 3linestrike, 3outside, 3starsinsouth, 3whitesoldiers, abandonedbaby, advanceblock, belthold, breakaway, closingmarubozu, concealbabyswall, counterattack, darkcloudcover, doji, dojistar, dragonflydoji, engulfing, eveningdojistar, eveningstar, gapsidesidewhite, gravestonedoji, hammer, hangingman, harami, haramicross, highwave, hikkake, hikkakemod, homingpigeon, identical3crows, inneck, inside, invertedhammer, kicking, kickingbylength, ladderbottom, longleggeddoji, longline, marubozu, matchinglow, mathold, morningdojistar, morningstar, onneck, piercing, rickshawman, risefall3methods, separatinglines, shootingstar, shortline, spinningtop, stalledpattern, sticksandwich, takuri, tasukigap, thrusting, tristar, unique3river, upsidegap2crows, xsidegap3methods\n"
     ]
    }
   ],
   "source": [
    "e = pd.DataFrame()\n",
    "e.ta.indicators()"
   ]
  },
  {
   "cell_type": "code",
   "execution_count": null,
   "metadata": {},
   "outputs": [],
   "source": [
    "help(ta.ema)"
   ]
  },
  {
   "cell_type": "code",
   "execution_count": 2,
   "metadata": {},
   "outputs": [],
   "source": [
    "# Function to format Millions\n",
    "def format_millions(x, pos):\n",
    "    \"The two args are the value and tick position\"\n",
    "    return \"%1.1fM\" % (x * 1e-6)"
   ]
  },
  {
   "cell_type": "code",
   "execution_count": 3,
   "metadata": {},
   "outputs": [],
   "source": [
    "def ctitle(indicator_name, ticker=\"SPY\", length=100):\n",
    "    return f\"{ticker}: {indicator_name} from {recent_startdate} to {recent_enddate} ({length})\"\n",
    "\n",
    "# # All Data: 0, Last Four Years: 0.25, Last Two Years: 0.5, This Year: 1, Last Half Year: 2, Last Quarter: 3\n",
    "# yearly_divisor = 1\n",
    "# recent = int(ta.RATE[\"TRADING_DAYS_PER_YEAR\"] / yearly_divisor) if yearly_divisor > 0 else df.shape[0]\n",
    "# print(recent)\n",
    "def recent_bars(df, tf: str = \"1y\"):\n",
    "    # All Data: 0, Last Four Years: 0.25, Last Two Years: 0.5, This Year: 1, Last Half Year: 2, Last Quarter: 4\n",
    "    yearly_divisor = {\"all\": 0, \"10y\": 0.1, \"5y\": 0.2, \"4y\": 0.25, \"3y\": 1./3, \"2y\": 0.5, \"1y\": 1, \"6mo\": 2, \"3mo\": 4}\n",
    "    yd = yearly_divisor[tf] if tf in yearly_divisor.keys() else 0\n",
    "    return int(ta.RATE[\"TRADING_DAYS_PER_YEAR\"] / yd) if yd > 0 else df.shape[0]\n",
    "\n",
    "def ta_ylim(series: pd.Series, percent: float = 0.1):\n",
    "    smin, smax = series.min(), series.max()\n",
    "    if isinstance(percent, float) and 0 <= float(percent) <= 1:\n",
    "        y_min = (1 + percent) * smin if smin < 0 else (1 - percent) * smin\n",
    "        y_max = (1 - percent) * smax if smax < 0 else (1 + percent) * smax\n",
    "        return (y_min, y_max)\n",
    "    return (smin, smax)\n",
    "\n",
    "price_size = (16, 8)\n",
    "ind_size = (16, 3.25)"
   ]
  },
  {
   "cell_type": "code",
   "execution_count": null,
   "metadata": {},
   "outputs": [],
   "source": [
    "help(e.ta.ticker)"
   ]
  },
  {
   "cell_type": "code",
   "execution_count": null,
   "metadata": {},
   "outputs": [],
   "source": [
    "df =pd.DataFrame()"
   ]
  },
  {
   "cell_type": "code",
   "execution_count": 7,
   "metadata": {},
   "outputs": [
    {
     "ename": "UnboundLocalError",
     "evalue": "local variable 'df' referenced before assignment",
     "output_type": "error",
     "traceback": [
      "\u001b[0;31m---------------------------------------------------------------------------\u001b[0m",
      "\u001b[0;31mUnboundLocalError\u001b[0m                         Traceback (most recent call last)",
      "\u001b[1;32m/home/ubuntuuser/karra/securities/jupyter/technical_analysis.ipynb Cell 8\u001b[0m line \u001b[0;36m4\n\u001b[1;32m      <a href='vscode-notebook-cell://wsl%2Bubuntu/home/ubuntuuser/karra/securities/jupyter/technical_analysis.ipynb#W6sdnNjb2RlLXJlbW90ZQ%3D%3D?line=0'>1</a>\u001b[0m \u001b[39m# Recent Data\u001b[39;00m\n\u001b[1;32m      <a href='vscode-notebook-cell://wsl%2Bubuntu/home/ubuntuuser/karra/securities/jupyter/technical_analysis.ipynb#W6sdnNjb2RlLXJlbW90ZQ%3D%3D?line=1'>2</a>\u001b[0m \u001b[39m# ticker = \"BTC-USD\"\u001b[39;00m\n\u001b[1;32m      <a href='vscode-notebook-cell://wsl%2Bubuntu/home/ubuntuuser/karra/securities/jupyter/technical_analysis.ipynb#W6sdnNjb2RlLXJlbW90ZQ%3D%3D?line=2'>3</a>\u001b[0m ticker \u001b[39m=\u001b[39m \u001b[39m\"\u001b[39m\u001b[39mAAPL\u001b[39m\u001b[39m\"\u001b[39m\n\u001b[0;32m----> <a href='vscode-notebook-cell://wsl%2Bubuntu/home/ubuntuuser/karra/securities/jupyter/technical_analysis.ipynb#W6sdnNjb2RlLXJlbW90ZQ%3D%3D?line=3'>4</a>\u001b[0m df1 \u001b[39m=\u001b[39m e\u001b[39m.\u001b[39;49mta\u001b[39m.\u001b[39;49mticker(ticker, kind\u001b[39m=\u001b[39;49m\u001b[39m\"\u001b[39;49m\u001b[39minfo\u001b[39;49m\u001b[39m\"\u001b[39;49m, lc_cols\u001b[39m=\u001b[39;49m\u001b[39mTrue\u001b[39;49;00m)\n\u001b[1;32m      <a href='vscode-notebook-cell://wsl%2Bubuntu/home/ubuntuuser/karra/securities/jupyter/technical_analysis.ipynb#W6sdnNjb2RlLXJlbW90ZQ%3D%3D?line=4'>5</a>\u001b[0m recent_startdate \u001b[39m=\u001b[39m df\u001b[39m.\u001b[39mtail(recent_bars(df))\u001b[39m.\u001b[39mindex[\u001b[39m0\u001b[39m]\n\u001b[1;32m      <a href='vscode-notebook-cell://wsl%2Bubuntu/home/ubuntuuser/karra/securities/jupyter/technical_analysis.ipynb#W6sdnNjb2RlLXJlbW90ZQ%3D%3D?line=5'>6</a>\u001b[0m recent_enddate \u001b[39m=\u001b[39m df\u001b[39m.\u001b[39mtail(recent_bars(df))\u001b[39m.\u001b[39mindex[\u001b[39m-\u001b[39m\u001b[39m1\u001b[39m]\n",
      "File \u001b[0;32m~/miniconda3/envs/conda_airflow/lib/python3.10/site-packages/pandas_ta/core.py:851\u001b[0m, in \u001b[0;36mAnalysisIndicators.ticker\u001b[0;34m(self, ticker, **kwargs)\u001b[0m\n\u001b[1;32m    849\u001b[0m ds \u001b[39m=\u001b[39m ds\u001b[39m.\u001b[39mlower() \u001b[39mis\u001b[39;00m \u001b[39mnot\u001b[39;00m \u001b[39mNone\u001b[39;00m \u001b[39mand\u001b[39;00m \u001b[39misinstance\u001b[39m(ds, \u001b[39mstr\u001b[39m)\n\u001b[1;32m    850\u001b[0m \u001b[39m# df = av(ticker, **kwargs) if ds and ds == \"av\" else yf(ticker, **kwargs)\u001b[39;00m\n\u001b[0;32m--> 851\u001b[0m df \u001b[39m=\u001b[39m yf(ticker, \u001b[39m*\u001b[39;49m\u001b[39m*\u001b[39;49mkwargs)\n\u001b[1;32m    853\u001b[0m \u001b[39mif\u001b[39;00m df \u001b[39mis\u001b[39;00m \u001b[39mNone\u001b[39;00m: \u001b[39mreturn\u001b[39;00m\n\u001b[1;32m    854\u001b[0m \u001b[39melif\u001b[39;00m df\u001b[39m.\u001b[39mempty:\n",
      "File \u001b[0;32m~/miniconda3/envs/conda_airflow/lib/python3.10/site-packages/pandas_ta/utils/data/yahoofinance.py:99\u001b[0m, in \u001b[0;36myf\u001b[0;34m(ticker, **kwargs)\u001b[0m\n\u001b[1;32m     96\u001b[0m         \u001b[39mprint\u001b[39m(\u001b[39mf\u001b[39m\u001b[39m\"\u001b[39m\u001b[39m[!] https://github.com/ranaroussi/yfinance/issues/760#issuecomment-877355832\u001b[39m\u001b[39m\"\u001b[39m)\n\u001b[1;32m     97\u001b[0m         \u001b[39mreturn\u001b[39;00m\n\u001b[0;32m---> 99\u001b[0m \u001b[39mif\u001b[39;00m df\u001b[39m.\u001b[39mempty: \u001b[39mreturn\u001b[39;00m\n\u001b[1;32m    100\u001b[0m df\u001b[39m.\u001b[39mname \u001b[39m=\u001b[39m ticker\n\u001b[1;32m    102\u001b[0m \u001b[39mtry\u001b[39;00m:\n",
      "\u001b[0;31mUnboundLocalError\u001b[0m: local variable 'df' referenced before assignment"
     ]
    }
   ],
   "source": [
    "# Recent Data\n",
    "# ticker = \"BTC-USD\"\n",
    "ticker = \"AAPL\"\n",
    "df1 = e.ta.ticker(ticker, kind=\"info\", lc_cols=True)\n",
    "recent_startdate = df.tail(recent_bars(df)).index[0]\n",
    "recent_enddate = df.tail(recent_bars(df)).index[-1]\n",
    "print(f\"{df.name}{df.tail(recent_bars(df)).shape} from {recent_startdate} to {recent_enddate}\")\n",
    "df.tail(recent_bars(df)).head()"
   ]
  }
 ],
 "metadata": {
  "kernelspec": {
   "display_name": "conda_airflow",
   "language": "python",
   "name": "python3"
  },
  "language_info": {
   "codemirror_mode": {
    "name": "ipython",
    "version": 3
   },
   "file_extension": ".py",
   "mimetype": "text/x-python",
   "name": "python",
   "nbconvert_exporter": "python",
   "pygments_lexer": "ipython3",
   "version": "3.10.12"
  }
 },
 "nbformat": 4,
 "nbformat_minor": 2
}
